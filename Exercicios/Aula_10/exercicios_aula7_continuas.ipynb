{
  "nbformat": 4,
  "nbformat_minor": 0,
  "metadata": {
    "colab": {
      "name": "exercicios_aula6_continuas.ipynb",
      "provenance": [],
      "collapsed_sections": []
    },
    "kernelspec": {
      "name": "python3",
      "display_name": "Python 3"
    },
    "language_info": {
      "name": "python"
    }
  },
  "cells": [
    {
      "cell_type": "markdown",
      "metadata": {
        "id": "JaCnHvb2Kt9w"
      },
      "source": [
        "# Exercícios Aula Distribuições Contínuas"
      ]
    },
    {
      "cell_type": "markdown",
      "metadata": {
        "id": "TjUZefYpKuwR"
      },
      "source": [
        "## Carregar módulos"
      ]
    },
    {
      "cell_type": "code",
      "metadata": {
        "id": "I2dITpROKu0P"
      },
      "source": [
        "import numpy as np\n",
        "import pandas as pd\n",
        "import matplotlib.pyplot as plt\n",
        "import seaborn as sns\n",
        "from scipy.stats import expon, norm, t, chi2, f"
      ],
      "execution_count": 1,
      "outputs": []
    },
    {
      "cell_type": "markdown",
      "metadata": {
        "id": "jFTVpMSKKu4F"
      },
      "source": [
        "## Carregar dados"
      ]
    },
    {
      "cell_type": "code",
      "metadata": {
        "id": "6bPuFXIjKu73"
      },
      "source": [
        "dados = pd.read_csv('vinho_nacional.csv', sep=';')"
      ],
      "execution_count": 5,
      "outputs": []
    },
    {
      "cell_type": "markdown",
      "metadata": {
        "id": "tB1xKxBsKu_V"
      },
      "source": [
        "## Resolução"
      ]
    },
    {
      "cell_type": "markdown",
      "metadata": {
        "id": "UcRtUz14KvDv"
      },
      "source": [
        "### Slide 18"
      ]
    },
    {
      "cell_type": "code",
      "metadata": {
        "id": "W0LI6D9UKvHF"
      },
      "source": [
        "media = 50\n",
        "dp = 10"
      ],
      "execution_count": 6,
      "outputs": []
    },
    {
      "cell_type": "code",
      "metadata": {
        "id": "ZnZrhwHsKvKm"
      },
      "source": [
        "prob_35 = norm.cdf(x = 30, loc = media, scale = dp)"
      ],
      "execution_count": 10,
      "outputs": []
    },
    {
      "cell_type": "code",
      "metadata": {
        "id": "tFgObacSNZAm"
      },
      "source": [
        "prob_45 = norm.cdf(x = 45, loc = media, scale = dp)"
      ],
      "execution_count": 11,
      "outputs": []
    },
    {
      "cell_type": "code",
      "metadata": {
        "colab": {
          "base_uri": "https://localhost:8080/"
        },
        "id": "NmUPPVChNZFa",
        "outputId": "624aee4a-e8c2-4cc9-d616-0c7089d35a07"
      },
      "source": [
        "prob_45 - prob_35"
      ],
      "execution_count": 12,
      "outputs": [
        {
          "output_type": "execute_result",
          "data": {
            "text/plain": [
              "0.2857874067778077"
            ]
          },
          "metadata": {
            "tags": []
          },
          "execution_count": 12
        }
      ]
    },
    {
      "cell_type": "markdown",
      "metadata": {
        "id": "r6C_zUEKNZJU"
      },
      "source": [
        "## Slide 19"
      ]
    },
    {
      "cell_type": "code",
      "metadata": {
        "id": "3VKL3ht0NZN1"
      },
      "source": [
        "media = 50\n",
        "dp = 10"
      ],
      "execution_count": 13,
      "outputs": []
    },
    {
      "cell_type": "code",
      "metadata": {
        "id": "eFiAvO1QPKKg"
      },
      "source": [
        "prob_85 = norm.cdf(x = 85, loc = media, scale = dp)"
      ],
      "execution_count": 14,
      "outputs": []
    },
    {
      "cell_type": "code",
      "metadata": {
        "colab": {
          "base_uri": "https://localhost:8080/"
        },
        "id": "Bi4dfKMpPKOe",
        "outputId": "5b4956e6-e255-4dac-c0ef-7787dd843fdb"
      },
      "source": [
        "1 - prob_85"
      ],
      "execution_count": 15,
      "outputs": [
        {
          "output_type": "execute_result",
          "data": {
            "text/plain": [
              "0.0002326290790355401"
            ]
          },
          "metadata": {
            "tags": []
          },
          "execution_count": 15
        }
      ]
    },
    {
      "cell_type": "markdown",
      "metadata": {
        "id": "YuAvopioPKSs"
      },
      "source": [
        "## Slide 21"
      ]
    },
    {
      "cell_type": "code",
      "metadata": {
        "id": "mRHAaSwwNZSe"
      },
      "source": [
        "dados_resumo = dados.agg(media_vendas = pd.NamedAgg('vendas_vinho_nacional', 'mean'),\n",
        "                         dp_vendas = pd.NamedAgg('vendas_vinho_nacional', 'std')) \\\n",
        "                    .reset_index()"
      ],
      "execution_count": 19,
      "outputs": []
    },
    {
      "cell_type": "code",
      "metadata": {
        "colab": {
          "base_uri": "https://localhost:8080/",
          "height": 111
        },
        "id": "NAb0Y6_CQhnW",
        "outputId": "00a6f62e-a6fd-44d7-aa7f-6fc0dd8745b1"
      },
      "source": [
        "dados_resumo"
      ],
      "execution_count": 20,
      "outputs": [
        {
          "output_type": "execute_result",
          "data": {
            "text/html": [
              "<div>\n",
              "<style scoped>\n",
              "    .dataframe tbody tr th:only-of-type {\n",
              "        vertical-align: middle;\n",
              "    }\n",
              "\n",
              "    .dataframe tbody tr th {\n",
              "        vertical-align: top;\n",
              "    }\n",
              "\n",
              "    .dataframe thead th {\n",
              "        text-align: right;\n",
              "    }\n",
              "</style>\n",
              "<table border=\"1\" class=\"dataframe\">\n",
              "  <thead>\n",
              "    <tr style=\"text-align: right;\">\n",
              "      <th></th>\n",
              "      <th>index</th>\n",
              "      <th>vendas_vinho_nacional</th>\n",
              "    </tr>\n",
              "  </thead>\n",
              "  <tbody>\n",
              "    <tr>\n",
              "      <th>0</th>\n",
              "      <td>media_vendas</td>\n",
              "      <td>339.050000</td>\n",
              "    </tr>\n",
              "    <tr>\n",
              "      <th>1</th>\n",
              "      <td>dp_vendas</td>\n",
              "      <td>7.301586</td>\n",
              "    </tr>\n",
              "  </tbody>\n",
              "</table>\n",
              "</div>"
            ],
            "text/plain": [
              "          index  vendas_vinho_nacional\n",
              "0  media_vendas             339.050000\n",
              "1     dp_vendas               7.301586"
            ]
          },
          "metadata": {
            "tags": []
          },
          "execution_count": 20
        }
      ]
    },
    {
      "cell_type": "markdown",
      "metadata": {
        "id": "V44aT9_TQhsW"
      },
      "source": [
        "### Slide 22"
      ]
    },
    {
      "cell_type": "code",
      "metadata": {
        "id": "JiGDkJSQQhwd"
      },
      "source": [
        "media_vendas = dados_resumo[dados_resumo['index'] == 'media_vendas'].values[0][1]"
      ],
      "execution_count": 32,
      "outputs": []
    },
    {
      "cell_type": "code",
      "metadata": {
        "id": "j5ShwU6aR_bg"
      },
      "source": [
        "dp_vendas = dados_resumo[dados_resumo['index'] == 'dp_vendas'].values[0][1]"
      ],
      "execution_count": 36,
      "outputs": []
    },
    {
      "cell_type": "code",
      "metadata": {
        "id": "s9NKJwGAR_f3"
      },
      "source": [
        "p_330 = norm.cdf(x = 330, loc = media_vendas, scale = dp_vendas)"
      ],
      "execution_count": 38,
      "outputs": []
    },
    {
      "cell_type": "code",
      "metadata": {
        "id": "TgWBiRQ5R_jI"
      },
      "source": [
        "p_370 = norm.cdf(x = 370, loc = media_vendas, scale = dp_vendas)"
      ],
      "execution_count": 39,
      "outputs": []
    },
    {
      "cell_type": "code",
      "metadata": {
        "colab": {
          "base_uri": "https://localhost:8080/"
        },
        "id": "zMEIvWV6KvWl",
        "outputId": "2ba10b9a-431f-4f0d-cd2c-91b8f1c133af"
      },
      "source": [
        "p_370 - p_330"
      ],
      "execution_count": 40,
      "outputs": [
        {
          "output_type": "execute_result",
          "data": {
            "text/plain": [
              "0.8924005653958927"
            ]
          },
          "metadata": {
            "tags": []
          },
          "execution_count": 40
        }
      ]
    },
    {
      "cell_type": "markdown",
      "metadata": {
        "id": "jrgIRcu7S8yH"
      },
      "source": [
        "### Slide 23 "
      ]
    },
    {
      "cell_type": "code",
      "metadata": {
        "id": "9vvGiEBLS82j"
      },
      "source": [
        "media_vendas = dados_resumo[dados_resumo['index'] == 'media_vendas'].values[0][1]"
      ],
      "execution_count": 41,
      "outputs": []
    },
    {
      "cell_type": "code",
      "metadata": {
        "id": "5jnCfvZHVNSF"
      },
      "source": [
        "dp_vendas = dados_resumo[dados_resumo['index'] == 'dp_vendas'].values[0][1]"
      ],
      "execution_count": 42,
      "outputs": []
    },
    {
      "cell_type": "code",
      "metadata": {
        "id": "AqwXSZtNVNWf"
      },
      "source": [
        "p_370 = norm.cdf(x = 370, loc = media_vendas, scale = dp_vendas)"
      ],
      "execution_count": 46,
      "outputs": []
    },
    {
      "cell_type": "code",
      "metadata": {
        "colab": {
          "base_uri": "https://localhost:8080/"
        },
        "id": "L5re3GL0VNZ9",
        "outputId": "61aea533-58f5-478d-8c0b-2548151a1e11"
      },
      "source": [
        "(1 - p_370) * 100"
      ],
      "execution_count": 47,
      "outputs": [
        {
          "output_type": "execute_result",
          "data": {
            "text/plain": [
              "0.0011235631229178367"
            ]
          },
          "metadata": {
            "tags": []
          },
          "execution_count": 47
        }
      ]
    },
    {
      "cell_type": "code",
      "metadata": {
        "id": "ebhKvmEHS86X"
      },
      "source": [
        ""
      ],
      "execution_count": null,
      "outputs": []
    },
    {
      "cell_type": "code",
      "metadata": {
        "id": "ilZkydVZS89-"
      },
      "source": [
        ""
      ],
      "execution_count": null,
      "outputs": []
    }
  ]
}