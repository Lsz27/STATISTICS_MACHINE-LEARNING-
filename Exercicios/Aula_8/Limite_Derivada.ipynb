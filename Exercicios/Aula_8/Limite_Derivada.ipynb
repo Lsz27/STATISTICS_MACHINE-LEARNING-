{
  "nbformat": 4,
  "nbformat_minor": 0,
  "metadata": {
    "colab": {
      "provenance": []
    },
    "kernelspec": {
      "name": "python3",
      "display_name": "Python 3"
    },
    "language_info": {
      "name": "python"
    }
  },
  "cells": [
    {
      "cell_type": "markdown",
      "source": [
        "### Bibliotecas"
      ],
      "metadata": {
        "id": "DoeR-Ba8kw02"
      }
    },
    {
      "cell_type": "code",
      "source": [
        "# gerais\n",
        "import numpy as np\n",
        "import pandas as pd"
      ],
      "metadata": {
        "id": "P1ZCPBf1pDro"
      },
      "execution_count": null,
      "outputs": []
    },
    {
      "cell_type": "code",
      "source": [
        "# graficos\n",
        "import matplotlib.pyplot as plt"
      ],
      "metadata": {
        "id": "TimktBxepOET"
      },
      "execution_count": null,
      "outputs": []
    },
    {
      "cell_type": "code",
      "source": [
        "# calculo\n",
        "# feito para atribuir simbolos a variaveis\n",
        "import sympy as sp"
      ],
      "metadata": {
        "id": "kSnw9gFnpm9K"
      },
      "execution_count": null,
      "outputs": []
    },
    {
      "cell_type": "markdown",
      "source": [
        "### Exemplo de Limite 1 "
      ],
      "metadata": {
        "id": "KW1EZ7Xqpqnp"
      }
    },
    {
      "cell_type": "markdown",
      "source": [
        "$\\lim_{x \\to 0} \\frac{x^2+x-2}{x-1}$"
      ],
      "metadata": {
        "id": "aCRFrME-qT29"
      }
    },
    {
      "cell_type": "code",
      "source": [
        "# definir o x\n",
        "x = sp.Symbol('x')\n",
        "x"
      ],
      "metadata": {
        "colab": {
          "base_uri": "https://localhost:8080/",
          "height": 38
        },
        "id": "hPYR2w1ArGEl",
        "outputId": "caf88e74-834c-4bbf-8ed4-1a8416d6fef5"
      },
      "execution_count": null,
      "outputs": [
        {
          "output_type": "execute_result",
          "data": {
            "text/plain": [
              "x"
            ],
            "text/latex": "$\\displaystyle x$"
          },
          "metadata": {},
          "execution_count": 6
        }
      ]
    },
    {
      "cell_type": "code",
      "source": [
        "# definir a função\n",
        "funcao =  (x**2 + x -2) / (x - 1)\n",
        "funcao "
      ],
      "metadata": {
        "colab": {
          "base_uri": "https://localhost:8080/",
          "height": 55
        },
        "id": "VDGxpVlOr6x1",
        "outputId": "168ffbd0-adc6-469e-af40-7fdf312b2e41"
      },
      "execution_count": null,
      "outputs": [
        {
          "output_type": "execute_result",
          "data": {
            "text/plain": [
              "(x**2 + x - 2)/(x - 1)"
            ],
            "text/latex": "$\\displaystyle \\frac{x^{2} + x - 2}{x - 1}$"
          },
          "metadata": {},
          "execution_count": 9
        }
      ]
    },
    {
      "cell_type": "code",
      "source": [
        "# encontra o limite - FUNCAO / VARIAVEL / DIRECIONAMENTO (aonde tende)\n",
        "sp.limit(funcao, x, 1)"
      ],
      "metadata": {
        "colab": {
          "base_uri": "https://localhost:8080/",
          "height": 37
        },
        "id": "M9dYjb3WsUgQ",
        "outputId": "5a5d5b9a-062a-4506-f670-c64c2cf89619"
      },
      "execution_count": null,
      "outputs": [
        {
          "output_type": "execute_result",
          "data": {
            "text/plain": [
              "3"
            ],
            "text/latex": "$\\displaystyle 3$"
          },
          "metadata": {},
          "execution_count": 10
        }
      ]
    },
    {
      "cell_type": "code",
      "source": [
        "# grafico\n",
        "sp.plot(funcao)"
      ],
      "metadata": {
        "colab": {
          "base_uri": "https://localhost:8080/",
          "height": 504
        },
        "id": "QpUflxvxtE6E",
        "outputId": "67dc31bd-b7c8-4047-ac4f-e17e09ac163f"
      },
      "execution_count": null,
      "outputs": [
        {
          "output_type": "display_data",
          "data": {
            "text/plain": [
              "<Figure size 640x480 with 1 Axes>"
            ],
            "image/png": "[encoded data removed]"
          },
          "metadata": {}
        },
        {
          "output_type": "execute_result",
          "data": {
            "text/plain": [
              "<sympy.plotting.plot.Plot at 0x7f9fd5ad4a60>"
            ]
          },
          "metadata": {},
          "execution_count": 11
        }
      ]
    },
    {
      "cell_type": "markdown",
      "source": [
        "### Exemplo de Limite 2"
      ],
      "metadata": {
        "id": "VLfo7OQ6tQbE"
      }
    },
    {
      "cell_type": "markdown",
      "source": [
        "$\\lim_{x \\to 2} \\frac{x+1}{x-2}$"
      ],
      "metadata": {
        "id": "YR8IS0Istq8I"
      }
    },
    {
      "cell_type": "code",
      "source": [
        "# definir o x\n",
        "x = sp.Symbol('x')\n",
        "x"
      ],
      "metadata": {
        "colab": {
          "base_uri": "https://localhost:8080/",
          "height": 38
        },
        "id": "8ZNTTut6tz2e",
        "outputId": "5811520f-7910-4b83-b31f-452b1dcadf68"
      },
      "execution_count": null,
      "outputs": [
        {
          "output_type": "execute_result",
          "data": {
            "text/plain": [
              "x"
            ],
            "text/latex": "$\\displaystyle x$"
          },
          "metadata": {},
          "execution_count": 14
        }
      ]
    },
    {
      "cell_type": "code",
      "source": [
        "funcao = (x + 1) / (x - 2)\n",
        "funcao"
      ],
      "metadata": {
        "colab": {
          "base_uri": "https://localhost:8080/",
          "height": 52
        },
        "id": "aGH5W8NYt85Q",
        "outputId": "b637bfa0-0888-43b0-8484-21254b22902a"
      },
      "execution_count": null,
      "outputs": [
        {
          "output_type": "execute_result",
          "data": {
            "text/plain": [
              "(x + 1)/(x - 2)"
            ],
            "text/latex": "$\\displaystyle \\frac{x + 1}{x - 2}$"
          },
          "metadata": {},
          "execution_count": 15
        }
      ]
    },
    {
      "cell_type": "code",
      "source": [
        "sp.limit(funcao, x , 2)"
      ],
      "metadata": {
        "colab": {
          "base_uri": "https://localhost:8080/",
          "height": 37
        },
        "id": "G4fv6biauN__",
        "outputId": "657cb57f-ea2d-4f8e-ed24-16394df7f9f6"
      },
      "execution_count": null,
      "outputs": [
        {
          "output_type": "execute_result",
          "data": {
            "text/plain": [
              "oo"
            ],
            "text/latex": "$\\displaystyle \\infty$"
          },
          "metadata": {},
          "execution_count": 16
        }
      ]
    },
    {
      "cell_type": "code",
      "source": [
        "sp.plot(funcao)"
      ],
      "metadata": {
        "colab": {
          "base_uri": "https://localhost:8080/",
          "height": 504
        },
        "id": "WONXSpoUuQzn",
        "outputId": "4affd6b4-b66e-4b09-f2f0-5a4d32cbdc33"
      },
      "execution_count": null,
      "outputs": [
        {
          "output_type": "display_data",
          "data": {
            "text/plain": [
              "<Figure size 640x480 with 1 Axes>"
            ],
            "image/png": "[encoded data removed]"
          },
          "metadata": {}
        },
        {
          "output_type": "execute_result",
          "data": {
            "text/plain": [
              "<sympy.plotting.plot.Plot at 0x7f9fd5873940>"
            ]
          },
          "metadata": {},
          "execution_count": 17
        }
      ]
    },
    {
      "cell_type": "code",
      "source": [
        "sp.plot(funcao, xlim =[-1.5, 5], ylim = [-15, 15])"
      ],
      "metadata": {
        "colab": {
          "base_uri": "https://localhost:8080/",
          "height": 504
        },
        "id": "oX2MZcAFuU1I",
        "outputId": "b90b5d2c-00c9-4f18-eb88-6732ea955978"
      },
      "execution_count": null,
      "outputs": [
        {
          "output_type": "display_data",
          "data": {
            "text/plain": [
              "<Figure size 640x480 with 1 Axes>"
            ],
            "image/png": "[encoded data removed]"
          },
          "metadata": {}
        },
        {
          "output_type": "execute_result",
          "data": {
            "text/plain": [
              "<sympy.plotting.plot.Plot at 0x7f9fd2cbb4f0>"
            ]
          },
          "metadata": {},
          "execution_count": 19
        }
      ]
    },
    {
      "cell_type": "markdown",
      "source": [
        "### Exemplo de limite 3"
      ],
      "metadata": {
        "id": "DKRuCzdwuzNy"
      }
    },
    {
      "cell_type": "markdown",
      "source": [
        "$\\lim_{x \\to 0} 2 + 3x$"
      ],
      "metadata": {
        "id": "Zz3ov9novEvB"
      }
    },
    {
      "cell_type": "code",
      "source": [
        "# definir o x \n",
        "x = sp.Symbol('x')\n",
        "x"
      ],
      "metadata": {
        "colab": {
          "base_uri": "https://localhost:8080/",
          "height": 38
        },
        "id": "-LQYagsJwQhr",
        "outputId": "0aa74837-da24-45c7-91f7-9d279caa8bc7"
      },
      "execution_count": null,
      "outputs": [
        {
          "output_type": "execute_result",
          "data": {
            "text/plain": [
              "x"
            ],
            "text/latex": "$\\displaystyle x$"
          },
          "metadata": {},
          "execution_count": 39
        }
      ]
    },
    {
      "cell_type": "code",
      "source": [
        "# definir a funcao\n",
        "funcao = 2 + 3*x\n",
        "funcao"
      ],
      "metadata": {
        "colab": {
          "base_uri": "https://localhost:8080/",
          "height": 38
        },
        "id": "GlKwX6FSvjx7",
        "outputId": "ff3de6b6-b556-4504-e401-657210c5c495"
      },
      "execution_count": null,
      "outputs": [
        {
          "output_type": "execute_result",
          "data": {
            "text/plain": [
              "3*x + 2"
            ],
            "text/latex": "$\\displaystyle 3 x + 2$"
          },
          "metadata": {},
          "execution_count": 40
        }
      ]
    },
    {
      "cell_type": "code",
      "source": [
        "# limite tende a zero\n",
        "sp.limit(funcao, x ,0)"
      ],
      "metadata": {
        "colab": {
          "base_uri": "https://localhost:8080/",
          "height": 37
        },
        "id": "loLMNwLhwYQr",
        "outputId": "9f326289-0f8b-42df-e78a-9b543260159b"
      },
      "execution_count": null,
      "outputs": [
        {
          "output_type": "execute_result",
          "data": {
            "text/plain": [
              "2"
            ],
            "text/latex": "$\\displaystyle 2$"
          },
          "metadata": {},
          "execution_count": 41
        }
      ]
    },
    {
      "cell_type": "code",
      "source": [
        "#limite tende ao infinito\n",
        "sp.limit(funcao, x, sp.oo)"
      ],
      "metadata": {
        "colab": {
          "base_uri": "https://localhost:8080/",
          "height": 37
        },
        "id": "0BwcLMqTwfRc",
        "outputId": "5af688df-e850-47bc-bc0d-5085b8aa2f76"
      },
      "execution_count": null,
      "outputs": [
        {
          "output_type": "execute_result",
          "data": {
            "text/plain": [
              "oo"
            ],
            "text/latex": "$\\displaystyle \\infty$"
          },
          "metadata": {},
          "execution_count": 42
        }
      ]
    },
    {
      "cell_type": "markdown",
      "source": [
        "### Exemplo limite 4"
      ],
      "metadata": {
        "id": "m2HuGUFewovc"
      }
    },
    {
      "cell_type": "markdown",
      "source": [
        "$\\lim_{x \\to0} \\beta_0 + \\beta_1x$\n",
        "\n",
        "\n",
        "\n",
        "\n",
        "$\\lim_{x \\to ∞} \\beta_0 + \\beta_1x$"
      ],
      "metadata": {
        "id": "vd59C6D8xuHN"
      }
    },
    {
      "cell_type": "code",
      "source": [
        "# definir o x\n",
        "x = sp.Symbol('x')\n",
        "x"
      ],
      "metadata": {
        "colab": {
          "base_uri": "https://localhost:8080/",
          "height": 38
        },
        "id": "fI-PhLIdx7BM",
        "outputId": "e268f9c7-f1ef-4fa1-daef-b7b84e732a8a"
      },
      "execution_count": null,
      "outputs": [
        {
          "output_type": "execute_result",
          "data": {
            "text/plain": [
              "x"
            ],
            "text/latex": "$\\displaystyle x$"
          },
          "metadata": {},
          "execution_count": 43
        }
      ]
    },
    {
      "cell_type": "code",
      "source": [
        "#definir os betas\n",
        "beta0 = sp.Symbol('beta0')\n",
        "beta1 = sp.Symbol('beta1')\n"
      ],
      "metadata": {
        "id": "JAETutogyXjB"
      },
      "execution_count": null,
      "outputs": []
    },
    {
      "cell_type": "code",
      "source": [
        "beta0"
      ],
      "metadata": {
        "colab": {
          "base_uri": "https://localhost:8080/",
          "height": 38
        },
        "id": "xybck_e6ypDn",
        "outputId": "a79fd856-7324-4b85-b566-44666a9651fc"
      },
      "execution_count": null,
      "outputs": [
        {
          "output_type": "execute_result",
          "data": {
            "text/plain": [
              "beta0"
            ],
            "text/latex": "$\\displaystyle \\beta_{0}$"
          },
          "metadata": {},
          "execution_count": 45
        }
      ]
    },
    {
      "cell_type": "code",
      "source": [
        "beta1"
      ],
      "metadata": {
        "colab": {
          "base_uri": "https://localhost:8080/",
          "height": 38
        },
        "id": "JhGVckXIyxnE",
        "outputId": "476d98b7-4a28-4d8a-c1c5-06241d5b1186"
      },
      "execution_count": null,
      "outputs": [
        {
          "output_type": "execute_result",
          "data": {
            "text/plain": [
              "beta1"
            ],
            "text/latex": "$\\displaystyle \\beta_{1}$"
          },
          "metadata": {},
          "execution_count": 46
        }
      ]
    },
    {
      "cell_type": "code",
      "source": [
        "# definir funcao\n",
        "funcao = beta0 + beta1 * x\n",
        "funcao"
      ],
      "metadata": {
        "colab": {
          "base_uri": "https://localhost:8080/",
          "height": 38
        },
        "id": "IpV-wsoByyot",
        "outputId": "f7565d55-538d-4d8c-e1d6-54892ad37464"
      },
      "execution_count": null,
      "outputs": [
        {
          "output_type": "execute_result",
          "data": {
            "text/plain": [
              "beta0 + beta1*x"
            ],
            "text/latex": "$\\displaystyle \\beta_{0} + \\beta_{1} x$"
          },
          "metadata": {},
          "execution_count": 47
        }
      ]
    },
    {
      "cell_type": "code",
      "source": [
        "# limit x tende a 0\n",
        "sp.limit(funcao, x, 0)"
      ],
      "metadata": {
        "colab": {
          "base_uri": "https://localhost:8080/",
          "height": 38
        },
        "id": "AXcL5LTdy_Y7",
        "outputId": "98493d90-f8c0-4786-fdb1-fe389171f4ea"
      },
      "execution_count": null,
      "outputs": [
        {
          "output_type": "execute_result",
          "data": {
            "text/plain": [
              "beta0"
            ],
            "text/latex": "$\\displaystyle \\beta_{0}$"
          },
          "metadata": {},
          "execution_count": 48
        }
      ]
    },
    {
      "cell_type": "code",
      "source": [
        "# limit x tende ao infinito\n",
        "sp.limit(funcao, x, sp.oo)"
      ],
      "metadata": {
        "colab": {
          "base_uri": "https://localhost:8080/",
          "height": 38
        },
        "id": "e8iyYWOmzQ8K",
        "outputId": "6310247c-eec6-4a25-d8a4-db78b635eac5"
      },
      "execution_count": null,
      "outputs": [
        {
          "output_type": "execute_result",
          "data": {
            "text/plain": [
              "oo*sign(beta1)"
            ],
            "text/latex": "$\\displaystyle \\infty \\operatorname{sign}{\\left(\\beta_{1} \\right)}$"
          },
          "metadata": {},
          "execution_count": 49
        }
      ]
    },
    {
      "cell_type": "markdown",
      "source": [
        "### Exemplo de Limite 5"
      ],
      "metadata": {
        "id": "1OhqclJCzZIw"
      }
    },
    {
      "cell_type": "markdown",
      "source": [
        "$\\lim_{x \\to 0} \\frac{1}{1 + e^{-x}}$\n",
        "\n",
        "\n",
        "$\\lim_{x \\to0 \\infty} \\frac{1}{1 + e^{-x}}$\n",
        "\n",
        "\n",
        "$\\lim_{x \\to0 -\\infty} \\frac{1}{1 + e^{-x}}$"
      ],
      "metadata": {
        "id": "VPEhGd1r0GI1"
      }
    },
    {
      "cell_type": "code",
      "source": [
        "# definir o x\n",
        "x = sp.Symbol ('x')\n",
        "x"
      ],
      "metadata": {
        "colab": {
          "base_uri": "https://localhost:8080/",
          "height": 38
        },
        "id": "16I0-l5i0syL",
        "outputId": "eac406b3-9b39-4046-d76c-9861e028c284"
      },
      "execution_count": null,
      "outputs": [
        {
          "output_type": "execute_result",
          "data": {
            "text/plain": [
              "x"
            ],
            "text/latex": "$\\displaystyle x$"
          },
          "metadata": {},
          "execution_count": 50
        }
      ]
    },
    {
      "cell_type": "code",
      "source": [
        "# definir a funcao\n",
        "funcao = 1 / (1 / 1+sp.exp(-x))\n",
        "funcao"
      ],
      "metadata": {
        "colab": {
          "base_uri": "https://localhost:8080/",
          "height": 52
        },
        "id": "XLyaluZS1QhY",
        "outputId": "9867aa24-d520-42d9-ac43-bf69877f23c5"
      },
      "execution_count": null,
      "outputs": [
        {
          "output_type": "execute_result",
          "data": {
            "text/plain": [
              "1/(1.0 + exp(-x))"
            ],
            "text/latex": "$\\displaystyle \\frac{1}{1.0 + e^{- x}}$"
          },
          "metadata": {},
          "execution_count": 51
        }
      ]
    },
    {
      "cell_type": "code",
      "source": [
        "# limite tende a 0\n",
        "sp.limit(funcao, x, 0)"
      ],
      "metadata": {
        "colab": {
          "base_uri": "https://localhost:8080/",
          "height": 51
        },
        "id": "CClRS0Iv1d_P",
        "outputId": "21ad22a1-c6d1-4800-86ef-1087af9a52c6"
      },
      "execution_count": null,
      "outputs": [
        {
          "output_type": "execute_result",
          "data": {
            "text/plain": [
              "1/2"
            ],
            "text/latex": "$\\displaystyle \\frac{1}{2}$"
          },
          "metadata": {},
          "execution_count": 53
        }
      ]
    },
    {
      "cell_type": "code",
      "source": [
        "# limite tende ao infinito \n",
        "sp.limit(funcao, x, sp.oo)"
      ],
      "metadata": {
        "colab": {
          "base_uri": "https://localhost:8080/",
          "height": 37
        },
        "id": "9opb1kuG1fFn",
        "outputId": "818846e0-819a-4d13-d8f9-9f9302171978"
      },
      "execution_count": null,
      "outputs": [
        {
          "output_type": "execute_result",
          "data": {
            "text/plain": [
              "1"
            ],
            "text/latex": "$\\displaystyle 1$"
          },
          "metadata": {},
          "execution_count": 55
        }
      ]
    },
    {
      "cell_type": "code",
      "source": [],
      "metadata": {
        "id": "M7VIecU61unf"
      },
      "execution_count": null,
      "outputs": []
    }
  ]
}